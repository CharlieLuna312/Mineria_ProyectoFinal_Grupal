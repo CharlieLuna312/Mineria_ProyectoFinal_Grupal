{
  "cells": [
    {
      "cell_type": "markdown",
      "metadata": {
        "id": "mjmSju1vGoLk"
      },
      "source": [
        "# Red neuronal para clasificación de imágenes de números escritos a mano\n",
        "\n",
        "```\n",
        "Integrantes:\n",
        "  Choque Bueno Fiorella\n",
        "  Condori Ccarhuarupay Bruno Moises\n",
        "  Huaman Guevara Alexander Javier\n",
        "  Huaraya Chara Bladimir\n",
        "  Luna Ccasani Charlie Joel\n",
        "  Tacusi Larota Jhon Edwin\n",
        "```\n"
      ]
    },
    {
      "cell_type": "code",
      "source": [
        "!pip install pyspark"
      ],
      "metadata": {
        "colab": {
          "base_uri": "https://localhost:8080/"
        },
        "id": "uBuEfFXhGvQL",
        "outputId": "14c1387b-79bb-4ae4-c4b8-a63616bdcfd8"
      },
      "execution_count": null,
      "outputs": [
        {
          "output_type": "stream",
          "name": "stdout",
          "text": [
            "Collecting pyspark\n",
            "  Downloading pyspark-3.2.1.tar.gz (281.4 MB)\n",
            "\u001b[K     |████████████████████████████████| 281.4 MB 27 kB/s \n",
            "\u001b[?25hCollecting py4j==0.10.9.3\n",
            "  Downloading py4j-0.10.9.3-py2.py3-none-any.whl (198 kB)\n",
            "\u001b[K     |████████████████████████████████| 198 kB 44.4 MB/s \n",
            "\u001b[?25hBuilding wheels for collected packages: pyspark\n",
            "  Building wheel for pyspark (setup.py) ... \u001b[?25l\u001b[?25hdone\n",
            "  Created wheel for pyspark: filename=pyspark-3.2.1-py2.py3-none-any.whl size=281853642 sha256=ac369be48b74b04e2cd1a641d47af704a263d66c810201340c945da20f8e63bc\n",
            "  Stored in directory: /root/.cache/pip/wheels/9f/f5/07/7cd8017084dce4e93e84e92efd1e1d5334db05f2e83bcef74f\n",
            "Successfully built pyspark\n",
            "Installing collected packages: py4j, pyspark\n",
            "Successfully installed py4j-0.10.9.3 pyspark-3.2.1\n"
          ]
        }
      ]
    },
    {
      "cell_type": "markdown",
      "metadata": {
        "id": "oD2MhlN3GoLw"
      },
      "source": [
        "# Librerías utilizadas"
      ]
    },
    {
      "cell_type": "code",
      "execution_count": null,
      "metadata": {
        "id": "ooTaCe9TGoLy"
      },
      "outputs": [],
      "source": [
        "import sys\n",
        "import pyspark\n",
        "import numpy as np\n",
        "import random\n",
        "import matplotlib.pyplot as plt\n",
        "from sklearn.metrics import multilabel_confusion_matrix"
      ]
    },
    {
      "cell_type": "markdown",
      "metadata": {
        "id": "xyTNTWDDGoL6"
      },
      "source": [
        "#1. Descargar MNIST Dataset de Keras"
      ]
    },
    {
      "cell_type": "code",
      "execution_count": null,
      "metadata": {
        "id": "wr1y1m9XGoL8"
      },
      "outputs": [],
      "source": [
        "from keras.datasets import mnist, fashion_mnist\n",
        "from keras.utils import np_utils\n",
        "# cargar MNIST\n",
        "(x_train, y_train), (x_test, y_test) = mnist.load_data()\n",
        "# training data : 60000 datos\n",
        "# reshape y normalizacion de los datos de entrada \n",
        "x_train = x_train.reshape(x_train.shape[0], 1, 28*28)\n",
        "x_train = x_train.astype('float32')\n",
        "x_train /= 255\n",
        "# codificar la salida que es un numero en el rango [0,9] en un vector de tamaño 10 \n",
        "# p.ej. el numero 3 se convertira  [0, 0, 0, 1, 0, 0, 0, 0, 0, 0]\n",
        "y_train = np_utils.to_categorical(y_train)\n",
        "\n",
        "# lo mismo para datos de prueba: 10000 muestras \n",
        "x_test = x_test.reshape(x_test.shape[0], 1, 28*28)\n",
        "x_test = x_test.astype('float32')\n",
        "x_test /= 255\n",
        "y_test = np_utils.to_categorical(y_test)\n",
        "\n",
        "# separamos y guardamos el dataset de MNIST\n",
        "np.savetxt('mnist_images_train.csv', x_train.reshape(len(x_train),784).tolist())\n",
        "np.savetxt('mnist_images_test.csv', x_test.reshape(len(x_test),784).tolist())\n",
        "np.savetxt('mnist_labels_train.csv', y_train.tolist())\n",
        "np.savetxt('mnist_labels_test.csv', y_test.tolist())"
      ]
    },
    {
      "cell_type": "code",
      "source": [
        "test = pd.read_csv(\"/content/mnist_labels_train.csv\", sep = \" \", header = None)\n",
        "test.head(5)"
      ],
      "metadata": {
        "colab": {
          "base_uri": "https://localhost:8080/",
          "height": 206
        },
        "id": "2zbuzindXw0Z",
        "outputId": "20c8186e-c4f0-4b76-ea94-923630d93f13"
      },
      "execution_count": null,
      "outputs": [
        {
          "output_type": "execute_result",
          "data": {
            "text/html": [
              "\n",
              "  <div id=\"df-0ed01a48-e259-47cc-bb7c-6c6ff2b5752f\">\n",
              "    <div class=\"colab-df-container\">\n",
              "      <div>\n",
              "<style scoped>\n",
              "    .dataframe tbody tr th:only-of-type {\n",
              "        vertical-align: middle;\n",
              "    }\n",
              "\n",
              "    .dataframe tbody tr th {\n",
              "        vertical-align: top;\n",
              "    }\n",
              "\n",
              "    .dataframe thead th {\n",
              "        text-align: right;\n",
              "    }\n",
              "</style>\n",
              "<table border=\"1\" class=\"dataframe\">\n",
              "  <thead>\n",
              "    <tr style=\"text-align: right;\">\n",
              "      <th></th>\n",
              "      <th>0</th>\n",
              "      <th>1</th>\n",
              "      <th>2</th>\n",
              "      <th>3</th>\n",
              "      <th>4</th>\n",
              "      <th>5</th>\n",
              "      <th>6</th>\n",
              "      <th>7</th>\n",
              "      <th>8</th>\n",
              "      <th>9</th>\n",
              "    </tr>\n",
              "  </thead>\n",
              "  <tbody>\n",
              "    <tr>\n",
              "      <th>0</th>\n",
              "      <td>0.0</td>\n",
              "      <td>0.0</td>\n",
              "      <td>0.0</td>\n",
              "      <td>0.0</td>\n",
              "      <td>0.0</td>\n",
              "      <td>1.0</td>\n",
              "      <td>0.0</td>\n",
              "      <td>0.0</td>\n",
              "      <td>0.0</td>\n",
              "      <td>0.0</td>\n",
              "    </tr>\n",
              "    <tr>\n",
              "      <th>1</th>\n",
              "      <td>1.0</td>\n",
              "      <td>0.0</td>\n",
              "      <td>0.0</td>\n",
              "      <td>0.0</td>\n",
              "      <td>0.0</td>\n",
              "      <td>0.0</td>\n",
              "      <td>0.0</td>\n",
              "      <td>0.0</td>\n",
              "      <td>0.0</td>\n",
              "      <td>0.0</td>\n",
              "    </tr>\n",
              "    <tr>\n",
              "      <th>2</th>\n",
              "      <td>0.0</td>\n",
              "      <td>0.0</td>\n",
              "      <td>0.0</td>\n",
              "      <td>0.0</td>\n",
              "      <td>1.0</td>\n",
              "      <td>0.0</td>\n",
              "      <td>0.0</td>\n",
              "      <td>0.0</td>\n",
              "      <td>0.0</td>\n",
              "      <td>0.0</td>\n",
              "    </tr>\n",
              "    <tr>\n",
              "      <th>3</th>\n",
              "      <td>0.0</td>\n",
              "      <td>1.0</td>\n",
              "      <td>0.0</td>\n",
              "      <td>0.0</td>\n",
              "      <td>0.0</td>\n",
              "      <td>0.0</td>\n",
              "      <td>0.0</td>\n",
              "      <td>0.0</td>\n",
              "      <td>0.0</td>\n",
              "      <td>0.0</td>\n",
              "    </tr>\n",
              "    <tr>\n",
              "      <th>4</th>\n",
              "      <td>0.0</td>\n",
              "      <td>0.0</td>\n",
              "      <td>0.0</td>\n",
              "      <td>0.0</td>\n",
              "      <td>0.0</td>\n",
              "      <td>0.0</td>\n",
              "      <td>0.0</td>\n",
              "      <td>0.0</td>\n",
              "      <td>0.0</td>\n",
              "      <td>1.0</td>\n",
              "    </tr>\n",
              "  </tbody>\n",
              "</table>\n",
              "</div>\n",
              "      <button class=\"colab-df-convert\" onclick=\"convertToInteractive('df-0ed01a48-e259-47cc-bb7c-6c6ff2b5752f')\"\n",
              "              title=\"Convert this dataframe to an interactive table.\"\n",
              "              style=\"display:none;\">\n",
              "        \n",
              "  <svg xmlns=\"http://www.w3.org/2000/svg\" height=\"24px\"viewBox=\"0 0 24 24\"\n",
              "       width=\"24px\">\n",
              "    <path d=\"M0 0h24v24H0V0z\" fill=\"none\"/>\n",
              "    <path d=\"M18.56 5.44l.94 2.06.94-2.06 2.06-.94-2.06-.94-.94-2.06-.94 2.06-2.06.94zm-11 1L8.5 8.5l.94-2.06 2.06-.94-2.06-.94L8.5 2.5l-.94 2.06-2.06.94zm10 10l.94 2.06.94-2.06 2.06-.94-2.06-.94-.94-2.06-.94 2.06-2.06.94z\"/><path d=\"M17.41 7.96l-1.37-1.37c-.4-.4-.92-.59-1.43-.59-.52 0-1.04.2-1.43.59L10.3 9.45l-7.72 7.72c-.78.78-.78 2.05 0 2.83L4 21.41c.39.39.9.59 1.41.59.51 0 1.02-.2 1.41-.59l7.78-7.78 2.81-2.81c.8-.78.8-2.07 0-2.86zM5.41 20L4 18.59l7.72-7.72 1.47 1.35L5.41 20z\"/>\n",
              "  </svg>\n",
              "      </button>\n",
              "      \n",
              "  <style>\n",
              "    .colab-df-container {\n",
              "      display:flex;\n",
              "      flex-wrap:wrap;\n",
              "      gap: 12px;\n",
              "    }\n",
              "\n",
              "    .colab-df-convert {\n",
              "      background-color: #E8F0FE;\n",
              "      border: none;\n",
              "      border-radius: 50%;\n",
              "      cursor: pointer;\n",
              "      display: none;\n",
              "      fill: #1967D2;\n",
              "      height: 32px;\n",
              "      padding: 0 0 0 0;\n",
              "      width: 32px;\n",
              "    }\n",
              "\n",
              "    .colab-df-convert:hover {\n",
              "      background-color: #E2EBFA;\n",
              "      box-shadow: 0px 1px 2px rgba(60, 64, 67, 0.3), 0px 1px 3px 1px rgba(60, 64, 67, 0.15);\n",
              "      fill: #174EA6;\n",
              "    }\n",
              "\n",
              "    [theme=dark] .colab-df-convert {\n",
              "      background-color: #3B4455;\n",
              "      fill: #D2E3FC;\n",
              "    }\n",
              "\n",
              "    [theme=dark] .colab-df-convert:hover {\n",
              "      background-color: #434B5C;\n",
              "      box-shadow: 0px 1px 3px 1px rgba(0, 0, 0, 0.15);\n",
              "      filter: drop-shadow(0px 1px 2px rgba(0, 0, 0, 0.3));\n",
              "      fill: #FFFFFF;\n",
              "    }\n",
              "  </style>\n",
              "\n",
              "      <script>\n",
              "        const buttonEl =\n",
              "          document.querySelector('#df-0ed01a48-e259-47cc-bb7c-6c6ff2b5752f button.colab-df-convert');\n",
              "        buttonEl.style.display =\n",
              "          google.colab.kernel.accessAllowed ? 'block' : 'none';\n",
              "\n",
              "        async function convertToInteractive(key) {\n",
              "          const element = document.querySelector('#df-0ed01a48-e259-47cc-bb7c-6c6ff2b5752f');\n",
              "          const dataTable =\n",
              "            await google.colab.kernel.invokeFunction('convertToInteractive',\n",
              "                                                     [key], {});\n",
              "          if (!dataTable) return;\n",
              "\n",
              "          const docLinkHtml = 'Like what you see? Visit the ' +\n",
              "            '<a target=\"_blank\" href=https://colab.research.google.com/notebooks/data_table.ipynb>data table notebook</a>'\n",
              "            + ' to learn more about interactive tables.';\n",
              "          element.innerHTML = '';\n",
              "          dataTable['output_type'] = 'display_data';\n",
              "          await google.colab.output.renderOutput(dataTable, element);\n",
              "          const docLink = document.createElement('div');\n",
              "          docLink.innerHTML = docLinkHtml;\n",
              "          element.appendChild(docLink);\n",
              "        }\n",
              "      </script>\n",
              "    </div>\n",
              "  </div>\n",
              "  "
            ],
            "text/plain": [
              "     0    1    2    3    4    5    6    7    8    9\n",
              "0  0.0  0.0  0.0  0.0  0.0  1.0  0.0  0.0  0.0  0.0\n",
              "1  1.0  0.0  0.0  0.0  0.0  0.0  0.0  0.0  0.0  0.0\n",
              "2  0.0  0.0  0.0  0.0  1.0  0.0  0.0  0.0  0.0  0.0\n",
              "3  0.0  1.0  0.0  0.0  0.0  0.0  0.0  0.0  0.0  0.0\n",
              "4  0.0  0.0  0.0  0.0  0.0  0.0  0.0  0.0  0.0  1.0"
            ]
          },
          "metadata": {},
          "execution_count": 27
        }
      ]
    },
    {
      "cell_type": "code",
      "source": [
        "import pandas as pd\n",
        "test = pd.read_csv(\"/content/mnist_images_train.csv\", sep = \" \", header = None)\n",
        "test.head(5)"
      ],
      "metadata": {
        "colab": {
          "base_uri": "https://localhost:8080/",
          "height": 300
        },
        "id": "ASo8OcI6WL_P",
        "outputId": "bdcf5b0a-7132-45d4-936d-0d4e1ae56a8d"
      },
      "execution_count": null,
      "outputs": [
        {
          "output_type": "execute_result",
          "data": {
            "text/html": [
              "\n",
              "  <div id=\"df-5b7784c5-19ab-460a-9dfe-974c193f423a\">\n",
              "    <div class=\"colab-df-container\">\n",
              "      <div>\n",
              "<style scoped>\n",
              "    .dataframe tbody tr th:only-of-type {\n",
              "        vertical-align: middle;\n",
              "    }\n",
              "\n",
              "    .dataframe tbody tr th {\n",
              "        vertical-align: top;\n",
              "    }\n",
              "\n",
              "    .dataframe thead th {\n",
              "        text-align: right;\n",
              "    }\n",
              "</style>\n",
              "<table border=\"1\" class=\"dataframe\">\n",
              "  <thead>\n",
              "    <tr style=\"text-align: right;\">\n",
              "      <th></th>\n",
              "      <th>0</th>\n",
              "      <th>1</th>\n",
              "      <th>2</th>\n",
              "      <th>3</th>\n",
              "      <th>4</th>\n",
              "      <th>5</th>\n",
              "      <th>6</th>\n",
              "      <th>7</th>\n",
              "      <th>8</th>\n",
              "      <th>9</th>\n",
              "      <th>10</th>\n",
              "      <th>11</th>\n",
              "      <th>12</th>\n",
              "      <th>13</th>\n",
              "      <th>14</th>\n",
              "      <th>15</th>\n",
              "      <th>16</th>\n",
              "      <th>17</th>\n",
              "      <th>18</th>\n",
              "      <th>19</th>\n",
              "      <th>20</th>\n",
              "      <th>21</th>\n",
              "      <th>22</th>\n",
              "      <th>23</th>\n",
              "      <th>24</th>\n",
              "      <th>25</th>\n",
              "      <th>26</th>\n",
              "      <th>27</th>\n",
              "      <th>28</th>\n",
              "      <th>29</th>\n",
              "      <th>30</th>\n",
              "      <th>31</th>\n",
              "      <th>32</th>\n",
              "      <th>33</th>\n",
              "      <th>34</th>\n",
              "      <th>35</th>\n",
              "      <th>36</th>\n",
              "      <th>37</th>\n",
              "      <th>38</th>\n",
              "      <th>39</th>\n",
              "      <th>...</th>\n",
              "      <th>744</th>\n",
              "      <th>745</th>\n",
              "      <th>746</th>\n",
              "      <th>747</th>\n",
              "      <th>748</th>\n",
              "      <th>749</th>\n",
              "      <th>750</th>\n",
              "      <th>751</th>\n",
              "      <th>752</th>\n",
              "      <th>753</th>\n",
              "      <th>754</th>\n",
              "      <th>755</th>\n",
              "      <th>756</th>\n",
              "      <th>757</th>\n",
              "      <th>758</th>\n",
              "      <th>759</th>\n",
              "      <th>760</th>\n",
              "      <th>761</th>\n",
              "      <th>762</th>\n",
              "      <th>763</th>\n",
              "      <th>764</th>\n",
              "      <th>765</th>\n",
              "      <th>766</th>\n",
              "      <th>767</th>\n",
              "      <th>768</th>\n",
              "      <th>769</th>\n",
              "      <th>770</th>\n",
              "      <th>771</th>\n",
              "      <th>772</th>\n",
              "      <th>773</th>\n",
              "      <th>774</th>\n",
              "      <th>775</th>\n",
              "      <th>776</th>\n",
              "      <th>777</th>\n",
              "      <th>778</th>\n",
              "      <th>779</th>\n",
              "      <th>780</th>\n",
              "      <th>781</th>\n",
              "      <th>782</th>\n",
              "      <th>783</th>\n",
              "    </tr>\n",
              "  </thead>\n",
              "  <tbody>\n",
              "    <tr>\n",
              "      <th>0</th>\n",
              "      <td>0.0</td>\n",
              "      <td>0.0</td>\n",
              "      <td>0.0</td>\n",
              "      <td>0.0</td>\n",
              "      <td>0.0</td>\n",
              "      <td>0.0</td>\n",
              "      <td>0.0</td>\n",
              "      <td>0.0</td>\n",
              "      <td>0.0</td>\n",
              "      <td>0.0</td>\n",
              "      <td>0.0</td>\n",
              "      <td>0.0</td>\n",
              "      <td>0.0</td>\n",
              "      <td>0.0</td>\n",
              "      <td>0.0</td>\n",
              "      <td>0.0</td>\n",
              "      <td>0.0</td>\n",
              "      <td>0.0</td>\n",
              "      <td>0.0</td>\n",
              "      <td>0.0</td>\n",
              "      <td>0.0</td>\n",
              "      <td>0.0</td>\n",
              "      <td>0.0</td>\n",
              "      <td>0.0</td>\n",
              "      <td>0.0</td>\n",
              "      <td>0.0</td>\n",
              "      <td>0.0</td>\n",
              "      <td>0.0</td>\n",
              "      <td>0.0</td>\n",
              "      <td>0.0</td>\n",
              "      <td>0.0</td>\n",
              "      <td>0.0</td>\n",
              "      <td>0.0</td>\n",
              "      <td>0.0</td>\n",
              "      <td>0.0</td>\n",
              "      <td>0.0</td>\n",
              "      <td>0.0</td>\n",
              "      <td>0.0</td>\n",
              "      <td>0.0</td>\n",
              "      <td>0.0</td>\n",
              "      <td>...</td>\n",
              "      <td>0.000000</td>\n",
              "      <td>0.000000</td>\n",
              "      <td>0.000000</td>\n",
              "      <td>0.0</td>\n",
              "      <td>0.0</td>\n",
              "      <td>0.0</td>\n",
              "      <td>0.0</td>\n",
              "      <td>0.0</td>\n",
              "      <td>0.0</td>\n",
              "      <td>0.0</td>\n",
              "      <td>0.0</td>\n",
              "      <td>0.0</td>\n",
              "      <td>0.0</td>\n",
              "      <td>0.0</td>\n",
              "      <td>0.0</td>\n",
              "      <td>0.0</td>\n",
              "      <td>0.0</td>\n",
              "      <td>0.0</td>\n",
              "      <td>0.0</td>\n",
              "      <td>0.0</td>\n",
              "      <td>0.0</td>\n",
              "      <td>0.0</td>\n",
              "      <td>0.0</td>\n",
              "      <td>0.0</td>\n",
              "      <td>0.0</td>\n",
              "      <td>0.0</td>\n",
              "      <td>0.0</td>\n",
              "      <td>0.0</td>\n",
              "      <td>0.0</td>\n",
              "      <td>0.0</td>\n",
              "      <td>0.0</td>\n",
              "      <td>0.0</td>\n",
              "      <td>0.0</td>\n",
              "      <td>0.0</td>\n",
              "      <td>0.0</td>\n",
              "      <td>0.0</td>\n",
              "      <td>0.0</td>\n",
              "      <td>0.0</td>\n",
              "      <td>0.0</td>\n",
              "      <td>0.0</td>\n",
              "    </tr>\n",
              "    <tr>\n",
              "      <th>1</th>\n",
              "      <td>0.0</td>\n",
              "      <td>0.0</td>\n",
              "      <td>0.0</td>\n",
              "      <td>0.0</td>\n",
              "      <td>0.0</td>\n",
              "      <td>0.0</td>\n",
              "      <td>0.0</td>\n",
              "      <td>0.0</td>\n",
              "      <td>0.0</td>\n",
              "      <td>0.0</td>\n",
              "      <td>0.0</td>\n",
              "      <td>0.0</td>\n",
              "      <td>0.0</td>\n",
              "      <td>0.0</td>\n",
              "      <td>0.0</td>\n",
              "      <td>0.0</td>\n",
              "      <td>0.0</td>\n",
              "      <td>0.0</td>\n",
              "      <td>0.0</td>\n",
              "      <td>0.0</td>\n",
              "      <td>0.0</td>\n",
              "      <td>0.0</td>\n",
              "      <td>0.0</td>\n",
              "      <td>0.0</td>\n",
              "      <td>0.0</td>\n",
              "      <td>0.0</td>\n",
              "      <td>0.0</td>\n",
              "      <td>0.0</td>\n",
              "      <td>0.0</td>\n",
              "      <td>0.0</td>\n",
              "      <td>0.0</td>\n",
              "      <td>0.0</td>\n",
              "      <td>0.0</td>\n",
              "      <td>0.0</td>\n",
              "      <td>0.0</td>\n",
              "      <td>0.0</td>\n",
              "      <td>0.0</td>\n",
              "      <td>0.0</td>\n",
              "      <td>0.0</td>\n",
              "      <td>0.0</td>\n",
              "      <td>...</td>\n",
              "      <td>0.000000</td>\n",
              "      <td>0.000000</td>\n",
              "      <td>0.000000</td>\n",
              "      <td>0.0</td>\n",
              "      <td>0.0</td>\n",
              "      <td>0.0</td>\n",
              "      <td>0.0</td>\n",
              "      <td>0.0</td>\n",
              "      <td>0.0</td>\n",
              "      <td>0.0</td>\n",
              "      <td>0.0</td>\n",
              "      <td>0.0</td>\n",
              "      <td>0.0</td>\n",
              "      <td>0.0</td>\n",
              "      <td>0.0</td>\n",
              "      <td>0.0</td>\n",
              "      <td>0.0</td>\n",
              "      <td>0.0</td>\n",
              "      <td>0.0</td>\n",
              "      <td>0.0</td>\n",
              "      <td>0.0</td>\n",
              "      <td>0.0</td>\n",
              "      <td>0.0</td>\n",
              "      <td>0.0</td>\n",
              "      <td>0.0</td>\n",
              "      <td>0.0</td>\n",
              "      <td>0.0</td>\n",
              "      <td>0.0</td>\n",
              "      <td>0.0</td>\n",
              "      <td>0.0</td>\n",
              "      <td>0.0</td>\n",
              "      <td>0.0</td>\n",
              "      <td>0.0</td>\n",
              "      <td>0.0</td>\n",
              "      <td>0.0</td>\n",
              "      <td>0.0</td>\n",
              "      <td>0.0</td>\n",
              "      <td>0.0</td>\n",
              "      <td>0.0</td>\n",
              "      <td>0.0</td>\n",
              "    </tr>\n",
              "    <tr>\n",
              "      <th>2</th>\n",
              "      <td>0.0</td>\n",
              "      <td>0.0</td>\n",
              "      <td>0.0</td>\n",
              "      <td>0.0</td>\n",
              "      <td>0.0</td>\n",
              "      <td>0.0</td>\n",
              "      <td>0.0</td>\n",
              "      <td>0.0</td>\n",
              "      <td>0.0</td>\n",
              "      <td>0.0</td>\n",
              "      <td>0.0</td>\n",
              "      <td>0.0</td>\n",
              "      <td>0.0</td>\n",
              "      <td>0.0</td>\n",
              "      <td>0.0</td>\n",
              "      <td>0.0</td>\n",
              "      <td>0.0</td>\n",
              "      <td>0.0</td>\n",
              "      <td>0.0</td>\n",
              "      <td>0.0</td>\n",
              "      <td>0.0</td>\n",
              "      <td>0.0</td>\n",
              "      <td>0.0</td>\n",
              "      <td>0.0</td>\n",
              "      <td>0.0</td>\n",
              "      <td>0.0</td>\n",
              "      <td>0.0</td>\n",
              "      <td>0.0</td>\n",
              "      <td>0.0</td>\n",
              "      <td>0.0</td>\n",
              "      <td>0.0</td>\n",
              "      <td>0.0</td>\n",
              "      <td>0.0</td>\n",
              "      <td>0.0</td>\n",
              "      <td>0.0</td>\n",
              "      <td>0.0</td>\n",
              "      <td>0.0</td>\n",
              "      <td>0.0</td>\n",
              "      <td>0.0</td>\n",
              "      <td>0.0</td>\n",
              "      <td>...</td>\n",
              "      <td>0.000000</td>\n",
              "      <td>0.000000</td>\n",
              "      <td>0.000000</td>\n",
              "      <td>0.0</td>\n",
              "      <td>0.0</td>\n",
              "      <td>0.0</td>\n",
              "      <td>0.0</td>\n",
              "      <td>0.0</td>\n",
              "      <td>0.0</td>\n",
              "      <td>0.0</td>\n",
              "      <td>0.0</td>\n",
              "      <td>0.0</td>\n",
              "      <td>0.0</td>\n",
              "      <td>0.0</td>\n",
              "      <td>0.0</td>\n",
              "      <td>0.0</td>\n",
              "      <td>0.0</td>\n",
              "      <td>0.0</td>\n",
              "      <td>0.0</td>\n",
              "      <td>0.0</td>\n",
              "      <td>0.0</td>\n",
              "      <td>0.0</td>\n",
              "      <td>0.0</td>\n",
              "      <td>0.0</td>\n",
              "      <td>0.0</td>\n",
              "      <td>0.0</td>\n",
              "      <td>0.0</td>\n",
              "      <td>0.0</td>\n",
              "      <td>0.0</td>\n",
              "      <td>0.0</td>\n",
              "      <td>0.0</td>\n",
              "      <td>0.0</td>\n",
              "      <td>0.0</td>\n",
              "      <td>0.0</td>\n",
              "      <td>0.0</td>\n",
              "      <td>0.0</td>\n",
              "      <td>0.0</td>\n",
              "      <td>0.0</td>\n",
              "      <td>0.0</td>\n",
              "      <td>0.0</td>\n",
              "    </tr>\n",
              "    <tr>\n",
              "      <th>3</th>\n",
              "      <td>0.0</td>\n",
              "      <td>0.0</td>\n",
              "      <td>0.0</td>\n",
              "      <td>0.0</td>\n",
              "      <td>0.0</td>\n",
              "      <td>0.0</td>\n",
              "      <td>0.0</td>\n",
              "      <td>0.0</td>\n",
              "      <td>0.0</td>\n",
              "      <td>0.0</td>\n",
              "      <td>0.0</td>\n",
              "      <td>0.0</td>\n",
              "      <td>0.0</td>\n",
              "      <td>0.0</td>\n",
              "      <td>0.0</td>\n",
              "      <td>0.0</td>\n",
              "      <td>0.0</td>\n",
              "      <td>0.0</td>\n",
              "      <td>0.0</td>\n",
              "      <td>0.0</td>\n",
              "      <td>0.0</td>\n",
              "      <td>0.0</td>\n",
              "      <td>0.0</td>\n",
              "      <td>0.0</td>\n",
              "      <td>0.0</td>\n",
              "      <td>0.0</td>\n",
              "      <td>0.0</td>\n",
              "      <td>0.0</td>\n",
              "      <td>0.0</td>\n",
              "      <td>0.0</td>\n",
              "      <td>0.0</td>\n",
              "      <td>0.0</td>\n",
              "      <td>0.0</td>\n",
              "      <td>0.0</td>\n",
              "      <td>0.0</td>\n",
              "      <td>0.0</td>\n",
              "      <td>0.0</td>\n",
              "      <td>0.0</td>\n",
              "      <td>0.0</td>\n",
              "      <td>0.0</td>\n",
              "      <td>...</td>\n",
              "      <td>0.000000</td>\n",
              "      <td>0.000000</td>\n",
              "      <td>0.000000</td>\n",
              "      <td>0.0</td>\n",
              "      <td>0.0</td>\n",
              "      <td>0.0</td>\n",
              "      <td>0.0</td>\n",
              "      <td>0.0</td>\n",
              "      <td>0.0</td>\n",
              "      <td>0.0</td>\n",
              "      <td>0.0</td>\n",
              "      <td>0.0</td>\n",
              "      <td>0.0</td>\n",
              "      <td>0.0</td>\n",
              "      <td>0.0</td>\n",
              "      <td>0.0</td>\n",
              "      <td>0.0</td>\n",
              "      <td>0.0</td>\n",
              "      <td>0.0</td>\n",
              "      <td>0.0</td>\n",
              "      <td>0.0</td>\n",
              "      <td>0.0</td>\n",
              "      <td>0.0</td>\n",
              "      <td>0.0</td>\n",
              "      <td>0.0</td>\n",
              "      <td>0.0</td>\n",
              "      <td>0.0</td>\n",
              "      <td>0.0</td>\n",
              "      <td>0.0</td>\n",
              "      <td>0.0</td>\n",
              "      <td>0.0</td>\n",
              "      <td>0.0</td>\n",
              "      <td>0.0</td>\n",
              "      <td>0.0</td>\n",
              "      <td>0.0</td>\n",
              "      <td>0.0</td>\n",
              "      <td>0.0</td>\n",
              "      <td>0.0</td>\n",
              "      <td>0.0</td>\n",
              "      <td>0.0</td>\n",
              "    </tr>\n",
              "    <tr>\n",
              "      <th>4</th>\n",
              "      <td>0.0</td>\n",
              "      <td>0.0</td>\n",
              "      <td>0.0</td>\n",
              "      <td>0.0</td>\n",
              "      <td>0.0</td>\n",
              "      <td>0.0</td>\n",
              "      <td>0.0</td>\n",
              "      <td>0.0</td>\n",
              "      <td>0.0</td>\n",
              "      <td>0.0</td>\n",
              "      <td>0.0</td>\n",
              "      <td>0.0</td>\n",
              "      <td>0.0</td>\n",
              "      <td>0.0</td>\n",
              "      <td>0.0</td>\n",
              "      <td>0.0</td>\n",
              "      <td>0.0</td>\n",
              "      <td>0.0</td>\n",
              "      <td>0.0</td>\n",
              "      <td>0.0</td>\n",
              "      <td>0.0</td>\n",
              "      <td>0.0</td>\n",
              "      <td>0.0</td>\n",
              "      <td>0.0</td>\n",
              "      <td>0.0</td>\n",
              "      <td>0.0</td>\n",
              "      <td>0.0</td>\n",
              "      <td>0.0</td>\n",
              "      <td>0.0</td>\n",
              "      <td>0.0</td>\n",
              "      <td>0.0</td>\n",
              "      <td>0.0</td>\n",
              "      <td>0.0</td>\n",
              "      <td>0.0</td>\n",
              "      <td>0.0</td>\n",
              "      <td>0.0</td>\n",
              "      <td>0.0</td>\n",
              "      <td>0.0</td>\n",
              "      <td>0.0</td>\n",
              "      <td>0.0</td>\n",
              "      <td>...</td>\n",
              "      <td>0.576471</td>\n",
              "      <td>0.988235</td>\n",
              "      <td>0.164706</td>\n",
              "      <td>0.0</td>\n",
              "      <td>0.0</td>\n",
              "      <td>0.0</td>\n",
              "      <td>0.0</td>\n",
              "      <td>0.0</td>\n",
              "      <td>0.0</td>\n",
              "      <td>0.0</td>\n",
              "      <td>0.0</td>\n",
              "      <td>0.0</td>\n",
              "      <td>0.0</td>\n",
              "      <td>0.0</td>\n",
              "      <td>0.0</td>\n",
              "      <td>0.0</td>\n",
              "      <td>0.0</td>\n",
              "      <td>0.0</td>\n",
              "      <td>0.0</td>\n",
              "      <td>0.0</td>\n",
              "      <td>0.0</td>\n",
              "      <td>0.0</td>\n",
              "      <td>0.0</td>\n",
              "      <td>0.0</td>\n",
              "      <td>0.0</td>\n",
              "      <td>0.0</td>\n",
              "      <td>0.0</td>\n",
              "      <td>0.0</td>\n",
              "      <td>0.0</td>\n",
              "      <td>0.0</td>\n",
              "      <td>0.0</td>\n",
              "      <td>0.0</td>\n",
              "      <td>0.0</td>\n",
              "      <td>0.0</td>\n",
              "      <td>0.0</td>\n",
              "      <td>0.0</td>\n",
              "      <td>0.0</td>\n",
              "      <td>0.0</td>\n",
              "      <td>0.0</td>\n",
              "      <td>0.0</td>\n",
              "    </tr>\n",
              "  </tbody>\n",
              "</table>\n",
              "<p>5 rows × 784 columns</p>\n",
              "</div>\n",
              "      <button class=\"colab-df-convert\" onclick=\"convertToInteractive('df-5b7784c5-19ab-460a-9dfe-974c193f423a')\"\n",
              "              title=\"Convert this dataframe to an interactive table.\"\n",
              "              style=\"display:none;\">\n",
              "        \n",
              "  <svg xmlns=\"http://www.w3.org/2000/svg\" height=\"24px\"viewBox=\"0 0 24 24\"\n",
              "       width=\"24px\">\n",
              "    <path d=\"M0 0h24v24H0V0z\" fill=\"none\"/>\n",
              "    <path d=\"M18.56 5.44l.94 2.06.94-2.06 2.06-.94-2.06-.94-.94-2.06-.94 2.06-2.06.94zm-11 1L8.5 8.5l.94-2.06 2.06-.94-2.06-.94L8.5 2.5l-.94 2.06-2.06.94zm10 10l.94 2.06.94-2.06 2.06-.94-2.06-.94-.94-2.06-.94 2.06-2.06.94z\"/><path d=\"M17.41 7.96l-1.37-1.37c-.4-.4-.92-.59-1.43-.59-.52 0-1.04.2-1.43.59L10.3 9.45l-7.72 7.72c-.78.78-.78 2.05 0 2.83L4 21.41c.39.39.9.59 1.41.59.51 0 1.02-.2 1.41-.59l7.78-7.78 2.81-2.81c.8-.78.8-2.07 0-2.86zM5.41 20L4 18.59l7.72-7.72 1.47 1.35L5.41 20z\"/>\n",
              "  </svg>\n",
              "      </button>\n",
              "      \n",
              "  <style>\n",
              "    .colab-df-container {\n",
              "      display:flex;\n",
              "      flex-wrap:wrap;\n",
              "      gap: 12px;\n",
              "    }\n",
              "\n",
              "    .colab-df-convert {\n",
              "      background-color: #E8F0FE;\n",
              "      border: none;\n",
              "      border-radius: 50%;\n",
              "      cursor: pointer;\n",
              "      display: none;\n",
              "      fill: #1967D2;\n",
              "      height: 32px;\n",
              "      padding: 0 0 0 0;\n",
              "      width: 32px;\n",
              "    }\n",
              "\n",
              "    .colab-df-convert:hover {\n",
              "      background-color: #E2EBFA;\n",
              "      box-shadow: 0px 1px 2px rgba(60, 64, 67, 0.3), 0px 1px 3px 1px rgba(60, 64, 67, 0.15);\n",
              "      fill: #174EA6;\n",
              "    }\n",
              "\n",
              "    [theme=dark] .colab-df-convert {\n",
              "      background-color: #3B4455;\n",
              "      fill: #D2E3FC;\n",
              "    }\n",
              "\n",
              "    [theme=dark] .colab-df-convert:hover {\n",
              "      background-color: #434B5C;\n",
              "      box-shadow: 0px 1px 3px 1px rgba(0, 0, 0, 0.15);\n",
              "      filter: drop-shadow(0px 1px 2px rgba(0, 0, 0, 0.3));\n",
              "      fill: #FFFFFF;\n",
              "    }\n",
              "  </style>\n",
              "\n",
              "      <script>\n",
              "        const buttonEl =\n",
              "          document.querySelector('#df-5b7784c5-19ab-460a-9dfe-974c193f423a button.colab-df-convert');\n",
              "        buttonEl.style.display =\n",
              "          google.colab.kernel.accessAllowed ? 'block' : 'none';\n",
              "\n",
              "        async function convertToInteractive(key) {\n",
              "          const element = document.querySelector('#df-5b7784c5-19ab-460a-9dfe-974c193f423a');\n",
              "          const dataTable =\n",
              "            await google.colab.kernel.invokeFunction('convertToInteractive',\n",
              "                                                     [key], {});\n",
              "          if (!dataTable) return;\n",
              "\n",
              "          const docLinkHtml = 'Like what you see? Visit the ' +\n",
              "            '<a target=\"_blank\" href=https://colab.research.google.com/notebooks/data_table.ipynb>data table notebook</a>'\n",
              "            + ' to learn more about interactive tables.';\n",
              "          element.innerHTML = '';\n",
              "          dataTable['output_type'] = 'display_data';\n",
              "          await google.colab.output.renderOutput(dataTable, element);\n",
              "          const docLink = document.createElement('div');\n",
              "          docLink.innerHTML = docLinkHtml;\n",
              "          element.appendChild(docLink);\n",
              "        }\n",
              "      </script>\n",
              "    </div>\n",
              "  </div>\n",
              "  "
            ],
            "text/plain": [
              "   0    1    2    3    4    5    6    ...  777  778  779  780  781  782  783\n",
              "0  0.0  0.0  0.0  0.0  0.0  0.0  0.0  ...  0.0  0.0  0.0  0.0  0.0  0.0  0.0\n",
              "1  0.0  0.0  0.0  0.0  0.0  0.0  0.0  ...  0.0  0.0  0.0  0.0  0.0  0.0  0.0\n",
              "2  0.0  0.0  0.0  0.0  0.0  0.0  0.0  ...  0.0  0.0  0.0  0.0  0.0  0.0  0.0\n",
              "3  0.0  0.0  0.0  0.0  0.0  0.0  0.0  ...  0.0  0.0  0.0  0.0  0.0  0.0  0.0\n",
              "4  0.0  0.0  0.0  0.0  0.0  0.0  0.0  ...  0.0  0.0  0.0  0.0  0.0  0.0  0.0\n",
              "\n",
              "[5 rows x 784 columns]"
            ]
          },
          "metadata": {},
          "execution_count": 28
        }
      ]
    },
    {
      "cell_type": "markdown",
      "metadata": {
        "id": "NHf4cAjlGoMA"
      },
      "source": [
        "#2. Cargar datos"
      ]
    },
    {
      "cell_type": "code",
      "source": [
        "#definimos el sparkContext\n",
        "from pyspark import SparkContext, SparkConf\n",
        "conf = SparkConf().setAppName(\"appName\")\n",
        "sc = SparkContext(conf=conf)"
      ],
      "metadata": {
        "id": "pmyK_VzWKZN9"
      },
      "execution_count": null,
      "outputs": []
    },
    {
      "cell_type": "code",
      "execution_count": null,
      "metadata": {
        "id": "3i97hZ0sGoMB"
      },
      "outputs": [],
      "source": [
        "#cargamos el texto con el pyspark\n",
        "txt_train_images = sc.textFile(\"mnist_images_train.csv\", 1)\n",
        "#separamos la data en un pair de indice, imagen del train\n",
        "x_train = txt_train_images.map(lambda x : np.fromstring(x, dtype=float, sep=' ').reshape(1, 784)).zipWithIndex().map(lambda x: (str(x[1]), x[0]))\n",
        "\n",
        "txt_train_labels = sc.textFile(\"mnist_labels_train.csv\", 1)\n",
        "#separamos la data en un pair de indice, label del train\n",
        "y_train = txt_train_labels.map(lambda x : np.fromstring(x, dtype=float, sep=' ').reshape(1, 10)).zipWithIndex().map(lambda x: (str(x[1]), x[0]))\n",
        "\n",
        "txt_test_images = sc.textFile(\"mnist_images_test.csv\", 1)\n",
        "#separamos la data en un pair de indice, imagen del test\n",
        "x_test = txt_test_images.map(lambda x : np.fromstring(x, dtype=float, sep=' ').reshape(1, 784)).zipWithIndex().map(lambda x: (str(x[1]), x[0]))\n",
        "\n",
        "txt_test_labels = sc.textFile(\"mnist_labels_test.csv\", 1)\n",
        "#separamos la data en un pair de indice, label del test\n",
        "y_test = txt_test_labels.map(lambda x : np.fromstring(x, dtype=float, sep=' ').reshape(1, 10)).zipWithIndex().map(lambda x: (str(x[1]), x[0]))"
      ]
    },
    {
      "cell_type": "code",
      "execution_count": null,
      "metadata": {
        "id": "io99Y0e3GoMD",
        "colab": {
          "base_uri": "https://localhost:8080/"
        },
        "outputId": "e4604a78-88cc-4881-d434-845f32924591"
      },
      "outputs": [
        {
          "output_type": "stream",
          "name": "stdout",
          "text": [
            "[(array([[0.        , 0.        , 0.        , 0.        , 0.        ,\n",
            "        0.        , 0.        , 0.        , 0.        , 0.        ,\n",
            "        0.        , 0.        , 0.        , 0.        , 0.        ,\n",
            "        0.        , 0.        , 0.        , 0.        , 0.        ,\n",
            "        0.        , 0.        , 0.        , 0.        , 0.        ,\n",
            "        0.        , 0.        , 0.        , 0.        , 0.        ,\n",
            "        0.        , 0.        , 0.        , 0.        , 0.        ,\n",
            "        0.        , 0.        , 0.        , 0.        , 0.        ,\n",
            "        0.        , 0.        , 0.        , 0.        , 0.        ,\n",
            "        0.        , 0.        , 0.        , 0.        , 0.        ,\n",
            "        0.        , 0.        , 0.        , 0.        , 0.        ,\n",
            "        0.        , 0.        , 0.        , 0.        , 0.        ,\n",
            "        0.        , 0.        , 0.        , 0.        , 0.        ,\n",
            "        0.        , 0.        , 0.        , 0.        , 0.        ,\n",
            "        0.        , 0.        , 0.        , 0.        , 0.        ,\n",
            "        0.        , 0.        , 0.        , 0.        , 0.        ,\n",
            "        0.        , 0.        , 0.        , 0.        , 0.        ,\n",
            "        0.        , 0.        , 0.        , 0.        , 0.        ,\n",
            "        0.        , 0.        , 0.        , 0.        , 0.        ,\n",
            "        0.        , 0.        , 0.        , 0.        , 0.        ,\n",
            "        0.        , 0.        , 0.        , 0.        , 0.        ,\n",
            "        0.        , 0.        , 0.        , 0.        , 0.        ,\n",
            "        0.        , 0.        , 0.        , 0.        , 0.        ,\n",
            "        0.        , 0.        , 0.        , 0.        , 0.        ,\n",
            "        0.        , 0.        , 0.        , 0.        , 0.        ,\n",
            "        0.        , 0.        , 0.        , 0.        , 0.        ,\n",
            "        0.        , 0.        , 0.        , 0.        , 0.        ,\n",
            "        0.        , 0.        , 0.        , 0.        , 0.        ,\n",
            "        0.        , 0.        , 0.        , 0.        , 0.        ,\n",
            "        0.        , 0.        , 0.        , 0.        , 0.        ,\n",
            "        0.        , 0.        , 0.        , 0.        , 0.69803923,\n",
            "        1.        , 0.41176471, 0.        , 0.        , 0.        ,\n",
            "        0.        , 0.        , 0.        , 0.        , 0.        ,\n",
            "        0.        , 0.        , 0.        , 0.        , 0.        ,\n",
            "        0.        , 0.        , 0.        , 0.        , 0.        ,\n",
            "        0.        , 0.        , 0.        , 0.        , 0.        ,\n",
            "        0.        , 0.02352941, 0.73725492, 0.99215686, 0.84705883,\n",
            "        0.05490196, 0.        , 0.        , 0.        , 0.        ,\n",
            "        0.        , 0.        , 0.        , 0.        , 0.        ,\n",
            "        0.        , 0.        , 0.        , 0.        , 0.        ,\n",
            "        0.        , 0.        , 0.        , 0.        , 0.        ,\n",
            "        0.        , 0.        , 0.        , 0.        , 0.05490196,\n",
            "        0.79215688, 0.99215686, 0.99215686, 0.09019608, 0.        ,\n",
            "        0.        , 0.        , 0.        , 0.        , 0.        ,\n",
            "        0.        , 0.        , 0.        , 0.        , 0.        ,\n",
            "        0.        , 0.        , 0.        , 0.        , 0.        ,\n",
            "        0.        , 0.        , 0.        , 0.        , 0.        ,\n",
            "        0.        , 0.        , 0.04705882, 0.78039217, 0.99215686,\n",
            "        0.50196081, 0.02352941, 0.        , 0.        , 0.        ,\n",
            "        0.        , 0.        , 0.        , 0.        , 0.        ,\n",
            "        0.        , 0.        , 0.        , 0.        , 0.        ,\n",
            "        0.        , 0.        , 0.        , 0.        , 0.        ,\n",
            "        0.        , 0.        , 0.        , 0.        , 0.        ,\n",
            "        0.16470589, 0.99215686, 0.99215686, 0.61960787, 0.        ,\n",
            "        0.        , 0.        , 0.        , 0.        , 0.        ,\n",
            "        0.        , 0.        , 0.        , 0.        , 0.        ,\n",
            "        0.        , 0.        , 0.        , 0.        , 0.        ,\n",
            "        0.        , 0.        , 0.        , 0.        , 0.        ,\n",
            "        0.        , 0.        , 0.        , 0.16470589, 0.99215686,\n",
            "        0.99215686, 0.61960787, 0.        , 0.        , 0.        ,\n",
            "        0.        , 0.        , 0.        , 0.        , 0.        ,\n",
            "        0.        , 0.        , 0.        , 0.        , 0.        ,\n",
            "        0.        , 0.        , 0.        , 0.        , 0.        ,\n",
            "        0.        , 0.        , 0.        , 0.        , 0.        ,\n",
            "        0.        , 0.60784316, 0.99215686, 0.99215686, 0.61960787,\n",
            "        0.        , 0.        , 0.        , 0.        , 0.        ,\n",
            "        0.        , 0.        , 0.        , 0.        , 0.        ,\n",
            "        0.        , 0.        , 0.        , 0.        , 0.        ,\n",
            "        0.        , 0.        , 0.        , 0.        , 0.        ,\n",
            "        0.        , 0.        , 0.        , 0.        , 0.627451  ,\n",
            "        0.99215686, 0.99215686, 0.57647061, 0.        , 0.        ,\n",
            "        0.        , 0.        , 0.        , 0.        , 0.        ,\n",
            "        0.        , 0.        , 0.        , 0.        , 0.        ,\n",
            "        0.        , 0.        , 0.        , 0.        , 0.        ,\n",
            "        0.        , 0.        , 0.        , 0.        , 0.        ,\n",
            "        0.        , 0.        , 0.627451  , 0.99215686, 0.99215686,\n",
            "        0.16078432, 0.        , 0.        , 0.        , 0.        ,\n",
            "        0.        , 0.        , 0.        , 0.        , 0.        ,\n",
            "        0.        , 0.        , 0.        , 0.        , 0.        ,\n",
            "        0.        , 0.        , 0.        , 0.        , 0.        ,\n",
            "        0.        , 0.        , 0.        , 0.        , 0.06666667,\n",
            "        0.88235295, 0.99215686, 0.92156863, 0.12156863, 0.        ,\n",
            "        0.        , 0.        , 0.        , 0.        , 0.        ,\n",
            "        0.        , 0.        , 0.        , 0.        , 0.        ,\n",
            "        0.        , 0.        , 0.        , 0.        , 0.        ,\n",
            "        0.        , 0.        , 0.        , 0.        , 0.        ,\n",
            "        0.        , 0.        , 0.09411765, 0.99215686, 0.99215686,\n",
            "        0.6901961 , 0.        , 0.        , 0.        , 0.        ,\n",
            "        0.        , 0.        , 0.        , 0.        , 0.        ,\n",
            "        0.        , 0.        , 0.        , 0.        , 0.        ,\n",
            "        0.        , 0.        , 0.        , 0.        , 0.        ,\n",
            "        0.        , 0.        , 0.        , 0.        , 0.        ,\n",
            "        0.09411765, 0.99215686, 0.99215686, 0.6901961 , 0.        ,\n",
            "        0.        , 0.        , 0.        , 0.        , 0.        ,\n",
            "        0.        , 0.        , 0.        , 0.        , 0.        ,\n",
            "        0.        , 0.        , 0.        , 0.        , 0.        ,\n",
            "        0.        , 0.        , 0.        , 0.        , 0.        ,\n",
            "        0.        , 0.        , 0.        , 0.09411765, 0.99215686,\n",
            "        0.99215686, 0.6901961 , 0.        , 0.        , 0.        ,\n",
            "        0.        , 0.        , 0.        , 0.        , 0.        ,\n",
            "        0.        , 0.        , 0.        , 0.        , 0.        ,\n",
            "        0.        , 0.        , 0.        , 0.        , 0.        ,\n",
            "        0.        , 0.        , 0.        , 0.        , 0.        ,\n",
            "        0.        , 0.09411765, 0.99215686, 0.99215686, 0.6901961 ,\n",
            "        0.        , 0.        , 0.        , 0.        , 0.        ,\n",
            "        0.        , 0.        , 0.        , 0.        , 0.        ,\n",
            "        0.        , 0.        , 0.        , 0.        , 0.        ,\n",
            "        0.        , 0.        , 0.        , 0.        , 0.        ,\n",
            "        0.        , 0.        , 0.        , 0.        , 0.09411765,\n",
            "        0.99215686, 0.99215686, 0.63529414, 0.        , 0.        ,\n",
            "        0.        , 0.        , 0.        , 0.        , 0.        ,\n",
            "        0.        , 0.        , 0.        , 0.        , 0.        ,\n",
            "        0.        , 0.        , 0.        , 0.        , 0.        ,\n",
            "        0.        , 0.        , 0.        , 0.        , 0.        ,\n",
            "        0.        , 0.        , 0.18039216, 0.99215686, 0.99215686,\n",
            "        0.23137255, 0.        , 0.        , 0.        , 0.        ,\n",
            "        0.        , 0.        , 0.        , 0.        , 0.        ,\n",
            "        0.        , 0.        , 0.        , 0.        , 0.        ,\n",
            "        0.        , 0.        , 0.        , 0.        , 0.        ,\n",
            "        0.        , 0.        , 0.        , 0.        , 0.        ,\n",
            "        0.55686277, 0.99215686, 0.99215686, 0.23137255, 0.        ,\n",
            "        0.        , 0.        , 0.        , 0.        , 0.        ,\n",
            "        0.        , 0.        , 0.        , 0.        , 0.        ,\n",
            "        0.        , 0.        , 0.        , 0.        , 0.        ,\n",
            "        0.        , 0.        , 0.        , 0.        , 0.        ,\n",
            "        0.        , 0.        , 0.        , 0.55686277, 0.99215686,\n",
            "        0.99215686, 0.23137255, 0.        , 0.        , 0.        ,\n",
            "        0.        , 0.        , 0.        , 0.        , 0.        ,\n",
            "        0.        , 0.        , 0.        , 0.        , 0.        ,\n",
            "        0.        , 0.        , 0.        , 0.        , 0.        ,\n",
            "        0.        , 0.        , 0.        , 0.        , 0.        ,\n",
            "        0.        , 0.55686277, 0.99215686, 0.79215688, 0.03137255,\n",
            "        0.        , 0.        , 0.        , 0.        , 0.        ,\n",
            "        0.        , 0.        , 0.        , 0.        , 0.        ,\n",
            "        0.        , 0.        , 0.        , 0.        , 0.        ,\n",
            "        0.        , 0.        , 0.        , 0.        , 0.        ,\n",
            "        0.        , 0.        , 0.        , 0.        , 0.34117648,\n",
            "        0.99215686, 0.54509807, 0.        , 0.        , 0.        ,\n",
            "        0.        , 0.        , 0.        , 0.        , 0.        ,\n",
            "        0.        , 0.        , 0.        , 0.        , 0.        ,\n",
            "        0.        , 0.        , 0.        , 0.        , 0.        ,\n",
            "        0.        , 0.        , 0.        , 0.        , 0.        ,\n",
            "        0.        , 0.        , 0.        , 0.        , 0.        ,\n",
            "        0.        , 0.        , 0.        , 0.        , 0.        ,\n",
            "        0.        , 0.        , 0.        , 0.        , 0.        ,\n",
            "        0.        , 0.        , 0.        , 0.        , 0.        ,\n",
            "        0.        , 0.        , 0.        , 0.        , 0.        ,\n",
            "        0.        , 0.        , 0.        , 0.        , 0.        ,\n",
            "        0.        , 0.        , 0.        , 0.        , 0.        ,\n",
            "        0.        , 0.        , 0.        , 0.        , 0.        ,\n",
            "        0.        , 0.        , 0.        , 0.        , 0.        ,\n",
            "        0.        , 0.        , 0.        , 0.        , 0.        ,\n",
            "        0.        , 0.        , 0.        , 0.        , 0.        ,\n",
            "        0.        , 0.        , 0.        , 0.        , 0.        ,\n",
            "        0.        , 0.        , 0.        , 0.        , 0.        ,\n",
            "        0.        , 0.        , 0.        , 0.        , 0.        ,\n",
            "        0.        , 0.        , 0.        , 0.        ]]), array([[0., 1.]]))]\n",
            "Tamaño del Trainset: 12665\n",
            "Tamaño del Testset: 2115\n"
          ]
        }
      ],
      "source": [
        "# hacer un map en el rdd como imagen, label(lo restringimos para la prediccion de 0 y 1)\n",
        "train_ds_rdd = x_train.join(y_train).map(lambda x: x[1]).map(lambda x: (x[0], np.array([x[1][0][:2]])))\n",
        "test_ds_rdd = x_test.join(y_test).map(lambda x: x[1]).map(lambda x: (x[0], np.array([x[1][0][:2]])))\n",
        "# filtrar de acuerdo a los labels  \n",
        "train_rdd = train_ds_rdd.filter(lambda x: np.array_equal(x[1][0], [1., 0.]) or np.array_equal(x[1][0], [0., 1.]))\n",
        "test_rdd = test_ds_rdd.filter(lambda x: np.array_equal(x[1][0], [1., 0.]) or np.array_equal(x[1][0], [0., 1.]))\n",
        "\n",
        "#guardar en memoria\n",
        "train_rdd.cache()\n",
        "\n",
        "print(train_rdd.take(1))\n",
        "print(\"Tamaño del Trainset:\", train_rdd.count())\n",
        "print(\"Tamaño del Testset:\", test_rdd.count())"
      ]
    },
    {
      "cell_type": "markdown",
      "metadata": {
        "id": "tAMHghF-GoME"
      },
      "source": [
        "#3. Funciones"
      ]
    },
    {
      "cell_type": "markdown",
      "metadata": {
        "id": "gnE2pN5OGoMG"
      },
      "source": [
        "## Funciones de activación\n",
        "![image_2022-02-03_002557.png](data:image/png;base64,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)"
      ]
    },
    {
      "cell_type": "code",
      "execution_count": null,
      "metadata": {
        "id": "21TaT3KXGoMI"
      },
      "outputs": [],
      "source": [
        "# Funcion general para aplicar cualquier función de activacion \n",
        "def activation(x, f):\n",
        "    return f(x)\n",
        "\n",
        "# Funcion de activacion sigmoidea \n",
        "def sigmoid(X):\n",
        "    return 1 / (1 + np.exp(-X))\n",
        "\n",
        "# Funcion principal sigmoide (utilizada para backward propagation) \n",
        "def sigmoid_prime(x):\n",
        "    sig = sigmoid(x)\n",
        "    return sig * (1 - sig)"
      ]
    },
    {
      "cell_type": "markdown",
      "metadata": {
        "id": "-Ww5L0eYGoMJ"
      },
      "source": [
        "## Forward Propagation (propagación)"
      ]
    },
    {
      "cell_type": "code",
      "execution_count": null,
      "metadata": {
        "id": "hGHtcVhHGoML"
      },
      "outputs": [],
      "source": [
        "# Calcular los pesos antes de aplicar la funcion de activacion\n",
        "def preforward(x, w, b):\n",
        "    return np.dot(x, w) + b\n",
        "\n",
        "# Calcular los pesos despues de aplicar la funcion de activacion\n",
        "# Es equivalente a la prediccion una vez que se ha entrenado el modelo \n",
        "def predict(x, W1, B1, W2, B2):\n",
        "    return sigmoid(preforward(sigmoid(preforward(x , W1, B1)), W2, B2))"
      ]
    },
    {
      "cell_type": "markdown",
      "metadata": {
        "id": "pTGZyAxjGoMM"
      },
      "source": [
        "## Backward Propagation (retropropagación)\n",
        "\n",
        "\n"
      ]
    },
    {
      "cell_type": "code",
      "execution_count": null,
      "metadata": {
        "id": "DSfh0cKlGoMM"
      },
      "outputs": [],
      "source": [
        "# Calcular la derivada del error con respecto a B1\n",
        "def derivativeB1(h_h, dB2, W2, f_prime):\n",
        "    return np.dot(dB2, W2.T) * f_prime(h_h)\n",
        "\n",
        "# Calcular la derivada del error con respecto a W1\n",
        "def derivativeW1(x, dB1):\n",
        "    return np.dot(x.T, dB1)\n",
        "    \n",
        "# Calcular la derivada del error con respecto a B2 \n",
        "def derivativeB2(y_pred, y_true, y_h, f_prime):\n",
        "    return (y_pred - y_true) * f_prime(y_h)\n",
        "\n",
        "# Calcular la derivada del error con respecto a W2 \n",
        "def derivativeW2(h, dB2):\n",
        "    return np.dot(h.T, dB2)"
      ]
    },
    {
      "cell_type": "markdown",
      "metadata": {
        "id": "Y7Xz-QMtGoMN"
      },
      "source": [
        "## Funciones Evaluación"
      ]
    },
    {
      "cell_type": "code",
      "execution_count": null,
      "metadata": {
        "id": "cqZORVtEGoMN"
      },
      "outputs": [],
      "source": [
        "#obtener la matriz de confucion\n",
        "def get_metrics(pred, true):\n",
        "    cm = multilabel_confusion_matrix(true, pred)\n",
        "    return (cm)\n",
        "\n",
        "# Funcion de error cuadratico medio\n",
        "def sse(y_pred, y_true):\n",
        "    return 0.5 * np.sum(np.power(y_pred - y_true, 2))"
      ]
    },
    {
      "cell_type": "markdown",
      "metadata": {
        "id": "BXgchln0GoMO"
      },
      "source": [
        "#4. Entrenamiento (Mini Batch Implementation)"
      ]
    },
    {
      "cell_type": "markdown",
      "source": [
        "```\n",
        " Notaciones\n",
        "    x ->Imagen de entrada de shape (1, 784)\n",
        "    y* -> Etiqueta one hot de shape (1, 2)\n",
        "    h^ -> Propagacion de la capa de entrada a la capa oculta antes de aplicar la funcion de activacion (1, 64) usando los parametros W1, B1\n",
        "    h -> Propagacion de la capa de entrada a la capa oculta despues de aplicar la funcion de activacion de simoid (1, 64)\n",
        "    y^ -> Propagacion de la capa oculta a la capa de salida antes de aplicar la funcion de activacion (1,2) usando los parametros W2, B2\n",
        "    y -> Propagacion de la capa oculta a la capa de salida despues de aplicar ;la funcion de activacion sigmoid (1,2)\n",
        "    E -> Error entre y e y* usando error cuadratico medio \n",
        "    Acc -> 1 es la predicción correcta, 0 es la prediccion incorrecta \n",
        "    DE/D -> Derivada parcial del Error con respecto a los parámetros (B2, W2, B1, W1)\n",
        "    \n",
        "    Propagacion(-->)\n",
        "    map batch ([x], [y*]) a ([x], [h^],[y*])\n",
        "    map batch ([x], [h^],[y*]) a ([x], [h^], [h], [y*])\n",
        "    map batch ([x], [h^], [h], [y*]) a ([x], [h^], [h], [y^], [y*])\n",
        "    map batch ([x], [h^], [h], [y^], [y*]) a ([x], [h^], [h], [y^], [y], [y*])\n",
        "    \n",
        "    Retropropagacion(<--)\n",
        "    map batch ([x], [h^], [h], [y^], [y], [y*]) a ([x], [h^], [h], [E], [DE/DB2], [Acc])\n",
        "    map batch ([x], [h^], [h], [E], [DE/DB2], [Acc]) a ([x], [h^], [E], [DE/DB2], [DE/DW2], [Acc])\n",
        "    map batch ([x], [h^], [E], [DE/DB2], [DE/DW2], [Acc]) a ([x], [E], [DE/DB2], [DE/DW2], [DE/DB1], [Acc])\n",
        "    map batch ([x], [E], [DE/DB2], [DE/DW2], [DE/DB1], [Acc]) a ([E], [DE/DB2], [DE/DW2], [DE/DB1], [DE/DW1],[Acc])\n",
        "```\n",
        "\n",
        "![image_2022-02-03_004338.png](data:image/png;base64,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)"
      ],
      "metadata": {
        "id": "MfvUEWiA1Lzu"
      }
    },
    {
      "cell_type": "code",
      "execution_count": null,
      "metadata": {
        "colab": {
          "base_uri": "https://localhost:8080/"
        },
        "id": "-V6-fnA1GoMP",
        "outputId": "7b74af70-a492-4136-a628-ed2aaed70bc9"
      },
      "outputs": [
        {
          "output_type": "stream",
          "name": "stdout",
          "text": [
            "   Epoch 1/50 | Loss: 0.3196605244444178 | Acc: 48.661364400134424 | Batchsize:8927\n",
            "   Epoch 2/50 | Loss: 0.3077030680294082 | Acc: 49.457872148181615 | Batchsize:8854\n",
            "   Epoch 3/50 | Loss: 0.2974366744693203 | Acc: 50.58571750394233 | Batchsize:8878\n",
            "   Epoch 4/50 | Loss: 0.28988623333885044 | Acc: 51.28436232537179 | Batchsize:8876\n",
            "   Epoch 5/50 | Loss: 0.2808786077970937 | Acc: 52.90821472598902 | Batchsize:8923\n",
            "   Epoch 6/50 | Loss: 0.2722681844185689 | Acc: 55.76203966005666 | Batchsize:8825\n",
            "   Epoch 7/50 | Loss: 0.2634562765061067 | Acc: 59.09603246167718 | Batchsize:8872\n",
            "   Epoch 8/50 | Loss: 0.25570184871678703 | Acc: 62.13197969543147 | Batchsize:8865\n",
            "   Epoch 9/50 | Loss: 0.2481393624196621 | Acc: 65.33923303834808 | Batchsize:8814\n",
            "   Epoch 10/50 | Loss: 0.24070163921600324 | Acc: 69.1500055847202 | Batchsize:8953\n",
            "   Epoch 11/50 | Loss: 0.2344478335684212 | Acc: 72.22789694699807 | Batchsize:8811\n",
            "   Epoch 12/50 | Loss: 0.2278438099294252 | Acc: 74.67700258397933 | Batchsize:8901\n",
            "   Epoch 13/50 | Loss: 0.2218224872536515 | Acc: 77.13034691815426 | Batchsize:8907\n",
            "   Epoch 14/50 | Loss: 0.21551734323068414 | Acc: 79.55832389580974 | Batchsize:8830\n",
            "   Epoch 15/50 | Loss: 0.20943029533107294 | Acc: 81.54404262555266 | Batchsize:8821\n",
            "   Epoch 16/50 | Loss: 0.2039679739290269 | Acc: 83.81245722108144 | Batchsize:8766\n",
            "   Epoch 17/50 | Loss: 0.19822577287510046 | Acc: 85.37468870273942 | Batchsize:8834\n",
            "   Epoch 18/50 | Loss: 0.19302513489775008 | Acc: 86.86971235194585 | Batchsize:8865\n",
            "   Epoch 19/50 | Loss: 0.1882831559578371 | Acc: 87.90304396843291 | Batchsize:8870\n",
            "   Epoch 20/50 | Loss: 0.18365716136049023 | Acc: 89.27241962774957 | Batchsize:8865\n",
            "   Epoch 21/50 | Loss: 0.1789423579507794 | Acc: 89.86061151079137 | Batchsize:8896\n",
            "   Epoch 22/50 | Loss: 0.17491430677088401 | Acc: 91.0205918757736 | Batchsize:8887\n",
            "   Epoch 23/50 | Loss: 0.16967696373963975 | Acc: 91.89947268035455 | Batchsize:8913\n",
            "   Epoch 24/50 | Loss: 0.16586152865772763 | Acc: 92.4114671163575 | Batchsize:8895\n",
            "   Epoch 25/50 | Loss: 0.1619367665897274 | Acc: 93.0214115781126 | Batchsize:8827\n",
            "   Epoch 26/50 | Loss: 0.15756122893527197 | Acc: 93.63431151241535 | Batchsize:8860\n",
            "   Epoch 27/50 | Loss: 0.15365433844483015 | Acc: 93.99820507067534 | Batchsize:8914\n",
            "   Epoch 28/50 | Loss: 0.14951651180816858 | Acc: 94.72212903947221 | Batchsize:8943\n",
            "   Epoch 29/50 | Loss: 0.14606485220661136 | Acc: 95.047276001801 | Batchsize:8884\n",
            "   Epoch 30/50 | Loss: 0.14235005040516063 | Acc: 95.63393059650714 | Batchsize:8818\n",
            "   Epoch 31/50 | Loss: 0.13972607068708093 | Acc: 95.40972458347501 | Batchsize:8823\n",
            "   Epoch 32/50 | Loss: 0.13705803338872857 | Acc: 95.5462375339982 | Batchsize:8824\n",
            "   Epoch 33/50 | Loss: 0.13338623532371094 | Acc: 95.91422121896163 | Batchsize:8860\n",
            "   Epoch 34/50 | Loss: 0.13046944504574182 | Acc: 96.30921570833803 | Batchsize:8887\n",
            "   Epoch 35/50 | Loss: 0.1272748057202013 | Acc: 96.56779179452211 | Batchsize:8799\n",
            "   Epoch 36/50 | Loss: 0.12480434510785027 | Acc: 96.56338028169014 | Batchsize:8875\n",
            "   Epoch 37/50 | Loss: 0.12203698926847475 | Acc: 96.78940278401437 | Batchsize:8908\n",
            "   Epoch 38/50 | Loss: 0.11975789866268585 | Acc: 96.946392218955 | Batchsize:8842\n",
            "   Epoch 39/50 | Loss: 0.1163446061167567 | Acc: 97.22790274937513 | Batchsize:8802\n",
            "   Epoch 40/50 | Loss: 0.11390041731805595 | Acc: 97.36782391649649 | Batchsize:8814\n",
            "   Epoch 41/50 | Loss: 0.11160328007347951 | Acc: 97.51708428246013 | Batchsize:8780\n",
            "   Epoch 42/50 | Loss: 0.10950185862904292 | Acc: 97.4531583080893 | Batchsize:8913\n",
            "   Epoch 43/50 | Loss: 0.1069160824685158 | Acc: 97.69611148572713 | Batchsize:8898\n",
            "   Epoch 44/50 | Loss: 0.10473138955081028 | Acc: 97.76624548736463 | Batchsize:8864\n",
            "   Epoch 45/50 | Loss: 0.10299284892147133 | Acc: 97.97251633250733 | Batchsize:8878\n",
            "   Epoch 46/50 | Loss: 0.10050727453123252 | Acc: 98.12831209832 | Batchsize:8869\n",
            "   Epoch 47/50 | Loss: 0.09953736521449322 | Acc: 97.93267058291912 | Batchsize:8852\n",
            "   Epoch 48/50 | Loss: 0.09730965116933456 | Acc: 98.01812004530012 | Batchsize:8830\n",
            "   Epoch 49/50 | Loss: 0.09558744579282435 | Acc: 98.0561555075594 | Batchsize:8797\n",
            "   Epoch 50/50 | Loss: 0.09317895994298649 | Acc: 98.33088981617233 | Batchsize:8867\n",
            "Entrenamiento terminado\n"
          ]
        }
      ],
      "source": [
        "# Hiperparametros \n",
        "num_iteration = 50 # numero de epocas\n",
        "learningRate = 0.1 #taza de aprendizaje\n",
        "\n",
        "input_layer = 784 # numero de neuronas en la capa de entrada (igual al tamaño de la imagen) \n",
        "hidden_layer = 64 # numero de neuronas en la capa oculta\n",
        "output_layer = 2 # numero de neuronas en la capa de salida (igual al número de etiquetas posibles) \n",
        "\n",
        "\n",
        "# Inicializacion de parámetros \n",
        "W1 = np.random.rand(input_layer, hidden_layer) - 0.5 # Shape (784, 64)\n",
        "W2 = np.random.rand(hidden_layer, output_layer) - 0.5 # Shape (64, 2)\n",
        "B1 = np.random.rand(1, hidden_layer) - 0.5 # Shape (1, 64)\n",
        "B2 = np.random.rand(1, output_layer) - 0.5 # Shape (1, 2)\n",
        "\n",
        "# Registro de los costos y precision\n",
        "cost_history = []\n",
        "acc_history = []\n",
        "\n",
        "# inciar entrenamiento\n",
        "for i in range(num_iteration):\n",
        "    \n",
        "    # Calcular gradientes, costo y precisión en mini batch(lotes)\n",
        "    gradientCostAcc = train_rdd\\\n",
        "                        .sample(False,0.7)\\\n",
        "                        .map(lambda x: (x[0], preforward(x[0], W1, B1), x[1]))\\\n",
        "                        .map(lambda x: (x[0], x[1], activation(x[1], sigmoid), x[2]))\\\n",
        "                        .map(lambda x: (x[0], x[1], x[2], preforward(x[2], W2, B2), x[3]))\\\n",
        "                        .map(lambda x: (x[0], x[1], x[2], x[3], activation(x[3], sigmoid), x[4]))\\\n",
        "                        .map(lambda x: (x[0], x[1], x[2], sse(x[4], x[5]), derivativeB2(x[4], x[5], x[3], sigmoid_prime), int(np.argmax(x[4]) == np.argmax(x[5]))))\\\n",
        "                        .map(lambda x: (x[0], x[1], x[3], x[4],  derivativeW2(x[2], x[4]) ,x[5]))\\\n",
        "                        .map(lambda x: (x[0], x[2], x[3], x[4],  derivativeB1(x[1],  x[3], W2, sigmoid_prime) ,x[5]))\\\n",
        "                        .map(lambda x: (x[1], x[2], x[3], x[4], derivativeW1(x[0], x[4]) ,x[5], 1)) \\\n",
        "                        .reduce(lambda x, y: (x[0] + y[0], x[1] + y[1], x[2] + y[2], x[3] + y[3], x[4] + y[4], x[5] + y[5], x[6] + y[6]))\n",
        "\n",
        "    # Costo y Precisión \n",
        "    n = gradientCostAcc[-1] # numero de imágenes en el batch(lote)\n",
        "    cost = gradientCostAcc[0]/n # Costo sobre el batch (lote)\n",
        "    acc = gradientCostAcc[5]/n # Precision sobre el batch (lote)\n",
        "    \n",
        "     # Agregar al registro de costo y precision\n",
        "    cost_history.append(cost)\n",
        "    acc_history.append(acc)\n",
        "    \n",
        "    # Obtener gradientes\n",
        "    DB2 = gradientCostAcc[1]/n\n",
        "    DW2 = gradientCostAcc[2]/n\n",
        "    DB1 = gradientCostAcc[3]/n\n",
        "    DW1 = gradientCostAcc[4]/n\n",
        "            \n",
        "    # Actualicar el parametro con la taza de aprendizaje usando gradiente descendente \n",
        "    B2 -= learningRate * DB2\n",
        "    W2 -= learningRate * DW2\n",
        "    B1 -= learningRate * DB1\n",
        "    W1 -= learningRate * DW1\n",
        "\n",
        "    print(f\"   Epoch {i+1}/{num_iteration} | Loss: {cost_history[i]} | Acc: {acc_history[i]*100} | Batchsize:{n}\")\n",
        "print(\"Entrenamiento terminado\")"
      ]
    },
    {
      "cell_type": "markdown",
      "source": [
        "##Gráficas del Loss y Accuracy"
      ],
      "metadata": {
        "id": "n2GQFdEbJEtS"
      }
    },
    {
      "cell_type": "code",
      "source": [
        "# Grafica de costo sobre epocas \n",
        "plt.title(\"Funcion de perdida\")\n",
        "plt.xlabel('Epochs')\n",
        "plt.ylabel('Loss')\n",
        "plt.plot(cost_history)\n",
        "plt.show()"
      ],
      "metadata": {
        "colab": {
          "base_uri": "https://localhost:8080/",
          "height": 295
        },
        "id": "4qScaErmzZe6",
        "outputId": "44d40835-a0c0-48d6-9b78-f1bc742a5b43"
      },
      "execution_count": null,
      "outputs": [
        {
          "output_type": "display_data",
          "data": {
            "image/png": "[encoded data removed]",
            "text/plain": [
              "<Figure size 432x288 with 1 Axes>"
            ]
          },
          "metadata": {
            "needs_background": "light"
          }
        }
      ]
    },
    {
      "cell_type": "code",
      "source": [
        "# Grafico de precisión sobre epocas \n",
        "plt.title(\"Funcion de precision\")\n",
        "plt.xlabel('Epochs')\n",
        "plt.ylabel('Accuracy')\n",
        "plt.plot(acc_history)\n",
        "plt.show()"
      ],
      "metadata": {
        "colab": {
          "base_uri": "https://localhost:8080/",
          "height": 295
        },
        "id": "R7yUDVGF0a82",
        "outputId": "5e47fd2b-1c25-4699-a076-79384e3c59e3"
      },
      "execution_count": null,
      "outputs": [
        {
          "output_type": "display_data",
          "data": {
            "image/png": "[encoded data removed]",
            "text/plain": [
              "<Figure size 432x288 with 1 Axes>"
            ]
          },
          "metadata": {
            "needs_background": "light"
          }
        }
      ]
    },
    {
      "cell_type": "markdown",
      "metadata": {
        "id": "7vSAdMVEGoMQ"
      },
      "source": [
        "#5. Evaluación"
      ]
    },
    {
      "cell_type": "code",
      "execution_count": null,
      "metadata": {
        "colab": {
          "base_uri": "https://localhost:8080/"
        },
        "id": "qAMEgAmMGoMR",
        "outputId": "4d280264-46aa-445d-bb11-4cc3dd7193ce"
      },
      "outputs": [
        {
          "output_type": "stream",
          "name": "stdout",
          "text": [
            "\n",
            "---- Digito 0 ------\n",
            "TP: 898 FP: 29 FN: 82 TN: 1106\n",
            "\\Accuracy : 0.9687162880596373\n",
            "Recall: 0.9163265296772178\n",
            "F1 score: 0.9417928921622527\n",
            "\n",
            "---- Digito 1 ------\n",
            "TP: 1128 FP: 67 FN: 7 TN: 913\n",
            "\\Accuracy : 0.9439330536034032\n",
            "Recall: 0.9938325982433192\n",
            "F1 score: 0.9682398428483485\n"
          ]
        }
      ],
      "source": [
        "# Usar el modelo entrenado sobre Testset y obtener la matriz de confusion por clase \n",
        "metrics = test_rdd.map(lambda x: get_metrics(np.round(predict(x[0], W1, B1, W2, B2)), x[1])).reduce(lambda x, y: x + y)\n",
        "\n",
        "# Para cada clase, proporcione TP (Verdadero Positivo), FP(Falso Positivo), FN(Falso Negativo), TN(Verdadero Negativo) y Accuracy, y recall, y score F1 \n",
        "for label, label_metrics in enumerate(metrics):\n",
        "    \n",
        "    print(f\"\\n---- Digito {label} ------\")\n",
        "    tn, fp, fn, tp = label_metrics.ravel()\n",
        "    print(\"TP:\", tp, \"FP:\", fp, \"FN:\", fn, \"TN:\", tn)\n",
        "\n",
        "    precision = tp / (tp + fp + 0.000001)\n",
        "    print(f\"\\Accuracy : {precision}\")\n",
        "\n",
        "    recall = tp / (tp + fn + 0.000001)\n",
        "    print(f\"Recall: {recall}\")\n",
        "\n",
        "    F1 = 2 * (precision * recall) / (precision + recall + 0.000001)\n",
        "    print(f\"F1 score: {F1}\")"
      ]
    },
    {
      "cell_type": "markdown",
      "source": [
        "#6. Predicción"
      ],
      "metadata": {
        "id": "HNLTOTx1AX3H"
      }
    },
    {
      "cell_type": "code",
      "execution_count": null,
      "metadata": {
        "scrolled": false,
        "colab": {
          "base_uri": "https://localhost:8080/",
          "height": 1000
        },
        "id": "Fdd-MXtEGoMS",
        "outputId": "f532c5b1-a615-4635-a77e-f0f5c351522b"
      },
      "outputs": [
        {
          "output_type": "stream",
          "name": "stdout",
          "text": [
            "prediccion: 0, probabilidad: 0.67 \n"
          ]
        },
        {
          "output_type": "display_data",
          "data": {
            "image/png": "[encoded data removed]",
            "text/plain": [
              "<Figure size 432x288 with 1 Axes>"
            ]
          },
          "metadata": {
            "needs_background": "light"
          }
        },
        {
          "output_type": "stream",
          "name": "stdout",
          "text": [
            "prediccion: 1, probabilidad: 0.82 \n"
          ]
        },
        {
          "output_type": "display_data",
          "data": {
            "image/png": "[encoded data removed]",
            "text/plain": [
              "<Figure size 432x288 with 1 Axes>"
            ]
          },
          "metadata": {
            "needs_background": "light"
          }
        },
        {
          "output_type": "stream",
          "name": "stdout",
          "text": [
            "prediccion: 1, probabilidad: 0.86 \n"
          ]
        },
        {
          "output_type": "display_data",
          "data": {
            "image/png": "[encoded data removed]",
            "text/plain": [
              "<Figure size 432x288 with 1 Axes>"
            ]
          },
          "metadata": {
            "needs_background": "light"
          }
        },
        {
          "output_type": "stream",
          "name": "stdout",
          "text": [
            "prediccion: 1, probabilidad: 0.78 \n"
          ]
        },
        {
          "output_type": "display_data",
          "data": {
            "image/png": "[encoded data removed]",
            "text/plain": [
              "<Figure size 432x288 with 1 Axes>"
            ]
          },
          "metadata": {
            "needs_background": "light"
          }
        },
        {
          "output_type": "stream",
          "name": "stdout",
          "text": [
            "prediccion: 0, probabilidad: 0.73 \n"
          ]
        },
        {
          "output_type": "display_data",
          "data": {
            "image/png": "[encoded data removed]",
            "text/plain": [
              "<Figure size 432x288 with 1 Axes>"
            ]
          },
          "metadata": {
            "needs_background": "light"
          }
        },
        {
          "output_type": "stream",
          "name": "stdout",
          "text": [
            "prediccion: 1, probabilidad: 0.73 \n"
          ]
        },
        {
          "output_type": "display_data",
          "data": {
            "image/png": "[encoded data removed]",
            "text/plain": [
              "<Figure size 432x288 with 1 Axes>"
            ]
          },
          "metadata": {
            "needs_background": "light"
          }
        },
        {
          "output_type": "stream",
          "name": "stdout",
          "text": [
            "prediccion: 1, probabilidad: 0.66 \n"
          ]
        },
        {
          "output_type": "display_data",
          "data": {
            "image/png": "[encoded data removed]",
            "text/plain": [
              "<Figure size 432x288 with 1 Axes>"
            ]
          },
          "metadata": {
            "needs_background": "light"
          }
        },
        {
          "output_type": "stream",
          "name": "stdout",
          "text": [
            "prediccion: 0, probabilidad: 0.7 \n"
          ]
        },
        {
          "output_type": "display_data",
          "data": {
            "image/png": "[encoded data removed]",
            "text/plain": [
              "<Figure size 432x288 with 1 Axes>"
            ]
          },
          "metadata": {
            "needs_background": "light"
          }
        },
        {
          "output_type": "stream",
          "name": "stdout",
          "text": [
            "prediccion: 0, probabilidad: 0.61 \n"
          ]
        },
        {
          "output_type": "display_data",
          "data": {
            "image/png": "[encoded data removed]",
            "text/plain": [
              "<Figure size 432x288 with 1 Axes>"
            ]
          },
          "metadata": {
            "needs_background": "light"
          }
        },
        {
          "output_type": "stream",
          "name": "stdout",
          "text": [
            "prediccion: 1, probabilidad: 0.55 \n"
          ]
        },
        {
          "output_type": "display_data",
          "data": {
            "image/png": "[encoded data removed]",
            "text/plain": [
              "<Figure size 432x288 with 1 Axes>"
            ]
          },
          "metadata": {
            "needs_background": "light"
          }
        },
        {
          "output_type": "stream",
          "name": "stdout",
          "text": [
            "prediccion: 1, probabilidad: 0.79 \n"
          ]
        },
        {
          "output_type": "display_data",
          "data": {
            "image/png": "[encoded data removed]",
            "text/plain": [
              "<Figure size 432x288 with 1 Axes>"
            ]
          },
          "metadata": {
            "needs_background": "light"
          }
        },
        {
          "output_type": "stream",
          "name": "stdout",
          "text": [
            "prediccion: 1, probabilidad: 0.82 \n"
          ]
        },
        {
          "output_type": "display_data",
          "data": {
            "image/png": "[encoded data removed]",
            "text/plain": [
              "<Figure size 432x288 with 1 Axes>"
            ]
          },
          "metadata": {
            "needs_background": "light"
          }
        },
        {
          "output_type": "stream",
          "name": "stdout",
          "text": [
            "prediccion: 1, probabilidad: 0.75 \n"
          ]
        },
        {
          "output_type": "display_data",
          "data": {
            "image/png": "[encoded data removed]",
            "text/plain": [
              "<Figure size 432x288 with 1 Axes>"
            ]
          },
          "metadata": {
            "needs_background": "light"
          }
        },
        {
          "output_type": "stream",
          "name": "stdout",
          "text": [
            "prediccion: 1, probabilidad: 0.75 \n"
          ]
        },
        {
          "output_type": "display_data",
          "data": {
            "image/png": "[encoded data removed]",
            "text/plain": [
              "<Figure size 432x288 with 1 Axes>"
            ]
          },
          "metadata": {
            "needs_background": "light"
          }
        },
        {
          "output_type": "stream",
          "name": "stdout",
          "text": [
            "prediccion: 1, probabilidad: 0.48 \n"
          ]
        },
        {
          "output_type": "display_data",
          "data": {
            "image/png": "[encoded data removed]",
            "text/plain": [
              "<Figure size 432x288 with 1 Axes>"
            ]
          },
          "metadata": {
            "needs_background": "light"
          }
        }
      ],
      "source": [
        "for image_test in test_rdd.map(lambda x: (x[0], predict(x[0], W1, B1, W2, B2), np.argmax(x[1]))).takeSample(False, 15):\n",
        "    pred = np.argmax(image_test[1])\n",
        "    print(f'prediccion: {pred}, probabilidad: {round(image_test[1][0][pred], 2)} ')\n",
        "    image = np.reshape(image_test[0], (28, 28))\n",
        "    plt.imshow(image, cmap='binary')\n",
        "    plt.show()"
      ]
    }
  ],
  "metadata": {
    "kernelspec": {
      "display_name": "venv-3.7.7",
      "language": "python",
      "name": "venv-3.7.7"
    },
    "language_info": {
      "codemirror_mode": {
        "name": "ipython",
        "version": 3
      },
      "file_extension": ".py",
      "mimetype": "text/x-python",
      "name": "python",
      "nbconvert_exporter": "python",
      "pygments_lexer": "ipython3",
      "version": "3.7.7"
    },
    "colab": {
      "name": "Mineria_ProyectoFinal.ipynb",
      "provenance": []
    }
  },
  "nbformat": 4,
  "nbformat_minor": 0
}